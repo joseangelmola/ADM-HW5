{
 "cells": [
  {
   "cell_type": "markdown",
   "id": "26212e1b",
   "metadata": {},
   "source": [
    "### Visualization 1 - Visualize graph features"
   ]
  },
  {
   "cell_type": "code",
   "execution_count": 77,
   "id": "e1750f92",
   "metadata": {},
   "outputs": [
    {
     "name": "stdout",
     "output_type": "stream",
     "text": [
      "Choose a graph to print (enter 'Citation' or 'Collaboration'): collaboration\n",
      "+-----------------------------+-----------------+\n",
      "| Feature                     |           Value |\n",
      "+=============================+=================+\n",
      "| Number of nodes             | 14195           |\n",
      "+-----------------------------+-----------------+\n",
      "| Number of edges             | 39612           |\n",
      "+-----------------------------+-----------------+\n",
      "| Density                     |     0.000393203 |\n",
      "+-----------------------------+-----------------+\n",
      "| Average degree of the graph |     5.58112     |\n",
      "+-----------------------------+-----------------+\n",
      "| Is dense?                   |     0           |\n",
      "+-----------------------------+-----------------+\n",
      "\n",
      "\n",
      "Graph hubs                                                                                                                                                                                                                                                 => [2106222798, 2099352078, 2149056991, 2222853993, 2267618946, 2103829928, 703410400, 2142852865, 2138265038, 2136996261, 2567820109, 2127270479, 2121277316, 2136604085, 2144378114, 2029230138, 2150723893, 1984388302, 1964468254, 2065247233, 717012417,...]\n"
     ]
    },
    {
     "data": {
      "image/png": "[encoded data removed]",
      "text/plain": [
       "<Figure size 864x576 with 1 Axes>"
      ]
     },
     "metadata": {
      "needs_background": "light"
     },
     "output_type": "display_data"
    }
   ],
   "source": [
    "from tabulate import tabulate\n",
    "import matplotlib.pyplot as plt\n",
    "\n",
    "# Prompt the user for input\n",
    "graph_choice = input(\"Choose a graph to print (enter 'Citation' or 'Collaboration'): \")\n",
    "\n",
    "# Call the graph_features function on the chosen graph\n",
    "if graph_choice.lower() == \"citation\":\n",
    "    graph_features_dict = graph_features(citation_graph_nx, \"Citation\")\n",
    "elif graph_choice.lower() == \"collaboration\":\n",
    "    graph_features_dict = graph_features(collaboration_graph_nx, \"Collaboration\")\n",
    "else:\n",
    "    print(\"Invalid input. Please enter 'Citation' or 'Collaboration'.\")\n",
    "\n",
    "# Print the graph features in a table\n",
    "print(tabulate([(k, v) for k, v in graph_features_dict.items() if k != \"Degree distribution\" and k != \"Graph hubs\"], headers=[\"Feature\", \"Value\"], tablefmt='grid'))\n",
    "print(\"\\n\")\n",
    "\n",
    "# Print a table that lists the graph's hubs\n",
    "for k, v in graph_features_dict.items():\n",
    "    if k == \"Graph hubs\":\n",
    "        print(f'{str(k)[:250]:250} => {str(v)[:250]:250}...]')\n",
    "\n",
    "# Print A plot depicting the distribution of the citations received by papers\n",
    "if graph_choice.lower() == \"citation\":\n",
    "    for k, v in graph_features_dict.items():\n",
    "        if k == \"Degree distribution\":\n",
    "            degree_distribution_citation_in = v[0]\n",
    "            plt.figure(figsize=(12, 8))\n",
    "            plt.bar(degree_distribution_citation_in[1][:-1], degree_distribution_citation_in[0])\n",
    "            plt.xlabel('In-Degree')\n",
    "            plt.ylabel('Frequency')\n",
    "            plt.title('In-Degree Distribution')\n",
    "            plt.xlim(0, 60)\n",
    "            plt.show()\n",
    "            #Print A plot depicting the distribution of the given citations by papers\n",
    "            degree_distribution_citation_out = v[1]\n",
    "            plt.figure(figsize=(12, 8))\n",
    "            plt.bar(degree_distribution_citation_out[1][:-1], degree_distribution_citation_out[0])\n",
    "            plt.xlabel('Out-Degree')\n",
    "            plt.ylabel('Frequency')\n",
    "            plt.title('Out-Degree Distribution')\n",
    "            plt.xlim(0, 60)\n",
    "            plt.show()\n",
    "            \n",
    "        \n",
    "# Print a plot depicting the number of collaborations of the author \n",
    "if graph_choice.lower() == \"collaboration\":\n",
    "    for k, v in graph_features_dict.items():\n",
    "        if k == \"Degree distribution\":\n",
    "            degrees = list(range(len(v)))\n",
    "            plt.figure(figsize=(12, 8))\n",
    "            plt.bar(degrees, v)\n",
    "            plt.xlabel('Degree')\n",
    "            plt.ylabel('Number of Nodes')\n",
    "            plt.title('Degree Distribution of the Graph')\n",
    "            plt.xlim(0, 80)\n",
    "            plt.show()"
   ]
  },
  {
   "cell_type": "markdown",
   "id": "ba75ba9c",
   "metadata": {},
   "source": [
    "### Comment on the results:\n",
    "\n",
    "In our query we checked the Collaboration Graph's features:  \n",
    "We can see that most of the authors doesnt collabirate with more than 10 colleages,  \n",
    "and even more precisely, the vast majority of writers work alone or with only one other person.\n",
    "\n",
    "Note: we limited the number of nodes for 'Graph hub' to 20 in oredr to improve the visualization."
   ]
  },
  {
   "cell_type": "markdown",
   "id": "3c53a537",
   "metadata": {},
   "source": [
    "### Visualization 2 - Visualize the node's contribution"
   ]
  },
  {
   "cell_type": "code",
   "execution_count": 84,
   "id": "cd006f44",
   "metadata": {},
   "outputs": [
    {
     "name": "stdout",
     "output_type": "stream",
     "text": [
      "Choose a graph to print (enter 'Citation' or 'Collaboration'): collaboration\n",
      "Choose a node to analyze: 2295564484\n",
      "+---------------------------+------------------------+\n",
      "| Centrality Measurements   | Value                  |\n",
      "+===========================+========================+\n",
      "| Graph Name                | Collaboration          |\n",
      "+---------------------------+------------------------+\n",
      "| Betweenness Centrality    | 0.0007964117138711971  |\n",
      "+---------------------------+------------------------+\n",
      "| PageRank Centrality       | 0.00030221995199759084 |\n",
      "+---------------------------+------------------------+\n",
      "| Closeness Centrality      | 0.06248530109916605    |\n",
      "+---------------------------+------------------------+\n",
      "| Degree Centrality         | 0.01747217134000282    |\n",
      "+---------------------------+------------------------+\n"
     ]
    }
   ],
   "source": [
    "# Prompt the user for input\n",
    "graph_choice = input(\"Choose a graph to print (enter 'Citation' or 'Collaboration'): \")\n",
    "node = int(input(\"Choose a node to analyze: \"))\n",
    "\n",
    "# Call the graph_features function on the chosen graph\n",
    "if graph_choice.lower() == \"citation\":\n",
    "    graph_centrality_analysis = centrality_analysis(citation_graph_nx, node, \"Citation\")\n",
    "elif graph_choice.lower() == \"collaboration\":\n",
    "    graph_centrality_analysis = centrality_analysis(collaboration_graph_nx, node, \"Collaboration\")\n",
    "else:\n",
    "    print(\"Invalid input. Please enter 'Citation' or 'Collaboration'.\")\n",
    "\n",
    "#Print a table containing the node's centrality value based on the four centrality measurements\n",
    "print(tabulate([(k, v) for k, v in graph_centrality_analysis.items()], headers=[\"Centrality Measurements\", \"Value\"], tablefmt='grid'))"
   ]
  },
  {
   "cell_type": "markdown",
   "id": "68e44087",
   "metadata": {},
   "source": [
    "### Comment on the results:\n",
    "\n",
    "In our query we checked the various centrality measurements for paper with ID: 2295564484"
   ]
  }
 ],
 "metadata": {
  "kernelspec": {
   "display_name": "Python 3 (ipykernel)",
   "language": "python",
   "name": "python3"
  },
  "language_info": {
   "codemirror_mode": {
    "name": "ipython",
    "version": 3
   },
   "file_extension": ".py",
   "mimetype": "text/x-python",
   "name": "python",
   "nbconvert_exporter": "python",
   "pygments_lexer": "ipython3",
   "version": "3.9.7"
  }
 },
 "nbformat": 4,
 "nbformat_minor": 5
}
