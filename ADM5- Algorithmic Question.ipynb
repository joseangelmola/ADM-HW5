{
 "cells": [
  {
   "cell_type": "markdown",
   "id": "6de70129",
   "metadata": {},
   "source": [
    "## 5. Algorithmic Questions (AQ)\n",
    "### Part A\n",
    "#### Question 1: Implement an algorithm to solve the described mentioned problem."
   ]
  },
  {
   "cell_type": "code",
   "execution_count": 21,
   "id": "b285e152",
   "metadata": {},
   "outputs": [],
   "source": [
    "#Count the number of occurrences of each element in the list- represented as a dictionary\n",
    "def count_elements(lst):\n",
    "    freq = dict()\n",
    "    for item in lst:\n",
    "        if item in freq:\n",
    "            freq[item] += 1\n",
    "        else:\n",
    "            freq[item] = 1\n",
    "    return freq"
   ]
  },
  {
   "cell_type": "code",
   "execution_count": 22,
   "id": "8fdbb6ca",
   "metadata": {},
   "outputs": [],
   "source": [
    "#Find for each skill the candidates which maximize it's score, according to the required number of members\n",
    "def find_best_candidates(num, skill_dict):\n",
    "    if num > len(skill_dict):\n",
    "        best_candidates = list(skill_dict.keys())\n",
    "    else:\n",
    "        best_candidates = sorted(skill_dict, key=skill_dict.get, reverse=True)[:num]\n",
    "    return best_candidates "
   ]
  },
  {
   "cell_type": "code",
   "execution_count": 28,
   "id": "1ed64cb6",
   "metadata": {},
   "outputs": [],
   "source": [
    "#Check the score for a specific skill\n",
    "def calculate_skill_score(candidates, skill):\n",
    "    return sum(skill[key] for key in candidates)"
   ]
  },
  {
   "cell_type": "code",
   "execution_count": 43,
   "id": "df82e4b0",
   "metadata": {},
   "outputs": [],
   "source": [
    "#For candidates who were already selected -Check in which skill the candidate contribute more to the total score\n",
    "def check_benefit(candidate, num1, num2, skill1, skill2):\n",
    "    \n",
    "    best_candidates_copy1 = find_best_candidates(num1, {k: v for k, v in skill1.items() if k != candidate})\n",
    "    best_candidates_copy2 = find_best_candidates(num2, {k: v for k, v in skill2.items() if k != candidate})\n",
    "    best_candidates1 = find_best_candidates(num1, skill1)\n",
    "    best_candidates2 = find_best_candidates(num2, skill2)\n",
    "    \n",
    "    score1 = calculate_skill_score(best_candidates1, skill1)\n",
    "    score_copy1 = calculate_skill_score(best_candidates_copy1, {k: v for k, v in skill1.items() if k != candidate})\n",
    "    score2 = calculate_skill_score(best_candidates2, skill2)\n",
    "    score_copy2 = calculate_skill_score(best_candidates_copy2, {k: v for k, v in skill2.items() if k != candidate})\n",
    "    \n",
    "    if score1 - score_copy1 > score2 - score_copy2:\n",
    "        return best_candidates_copy2\n",
    "    else:\n",
    "        return []"
   ]
  },
  {
   "cell_type": "code",
   "execution_count": 44,
   "id": "816f0238",
   "metadata": {},
   "outputs": [],
   "source": [
    "#Calculate sum of the skill scores of selected members in the roles they have been assigned\n",
    "def calculate_score(selected_members, candidates_skills):\n",
    "    total_sum = 0\n",
    "    for key, value in selected_members.items():\n",
    "        total_sum += candidates_skills[value][key]\n",
    "    return total_sum"
   ]
  },
  {
   "cell_type": "code",
   "execution_count": 50,
   "id": "72183347",
   "metadata": {},
   "outputs": [],
   "source": [
    "def calculate_max_score(required_skills, candidates_skills):\n",
    "    max_sum = 0\n",
    "    selected_members = {}\n",
    "    #Run over skills required by the trainers\n",
    "    for key in required_skills:\n",
    "        #Run over candidates who maximize the score for the skill we check\n",
    "        for i in find_best_candidates(required_skills[key], candidates_skills[key]):\n",
    "            #Check if candidate was already selected\n",
    "            if i in selected_members.keys():\n",
    "                #Check in which skill the candidates contribute more to the total score\n",
    "                best_new_candidates = check_benefit(i, required_skills[key], required_skills[selected_members[i]], candidates_skills[key], candidates_skills[selected_members[i]])\n",
    "                #Check if candidate contribute more to the current skill\n",
    "                if best_new_candidates != []:\n",
    "                    #Delete the candidate from old skill\n",
    "                    old_skill = selected_members[i]\n",
    "                    del selected_members[i]\n",
    "                    for j in best_new_candidates:\n",
    "                        if j not in selected_members.keys():\n",
    "                            #Add new candidate to old skill\n",
    "                            selected_members[j] = old_skill\n",
    "                    #Add candidate to the current skill\n",
    "                    selected_members[i] = key  \n",
    "            else:\n",
    "                selected_members[i] = key\n",
    "    #Calculate the sum of the skill scores of members in the roles they have been assigned\n",
    "    return(calculate_score(selected_members, candidates_skills))     "
   ]
  },
  {
   "cell_type": "code",
   "execution_count": 51,
   "id": "ca55a7e0",
   "metadata": {
    "scrolled": true
   },
   "outputs": [
    {
     "name": "stdout",
     "output_type": "stream",
     "text": [
      "Enter N- number of candidates, M- Team size and S- size of skill set: 14 10 2\n",
      "Enter set of skills required by the trainers: SWM VOL ATH VOL VOL BSK HCK BSK SWM BSK\n",
      "Enter candidate ID: 1\n",
      "Enter skill code and skill score: BSK 98\n",
      "Enter skill code and skill score: HCK 12\n",
      "Enter candidate ID: 2\n",
      "Enter skill code and skill score: ATH 14\n",
      "Enter skill code and skill score: VOL 1\n",
      "Enter candidate ID: 3\n",
      "Enter skill code and skill score: HCK 82\n",
      "Enter skill code and skill score: ATH 30\n",
      "Enter candidate ID: 4\n",
      "Enter skill code and skill score: HCK 9\n",
      "Enter skill code and skill score: SWM 27\n",
      "Enter candidate ID: 5\n",
      "Enter skill code and skill score: FTB 90\n",
      "Enter skill code and skill score: HCK 50\n",
      "Enter candidate ID: 6\n",
      "Enter skill code and skill score: ATH 52\n",
      "Enter skill code and skill score: RGB 80\n",
      "Enter candidate ID: 7\n",
      "Enter skill code and skill score: HCK 95\n",
      "Enter skill code and skill score: SWM 11\n",
      "Enter candidate ID: 8\n",
      "Enter skill code and skill score: TEN 85\n",
      "Enter skill code and skill score: RGB 7\n",
      "Enter candidate ID: 9\n",
      "Enter skill code and skill score: RGB 46\n",
      "Enter skill code and skill score: SWM 30\n",
      "Enter candidate ID: 10\n",
      "Enter skill code and skill score: SWM 16\n",
      "Enter skill code and skill score: BSK 12\n",
      "Enter candidate ID: 11\n",
      "Enter skill code and skill score: VOL 32\n",
      "Enter skill code and skill score: HCK 40\n",
      "Enter candidate ID: 12\n",
      "Enter skill code and skill score: SOC 41\n",
      "Enter skill code and skill score: FTB 12\n",
      "Enter candidate ID: 13\n",
      "Enter skill code and skill score: SWM 59\n",
      "Enter skill code and skill score: TEN 82\n",
      "Enter candidate ID: 14\n",
      "Enter skill code and skill score: SWM 34\n",
      "Enter skill code and skill score: VOL 20\n",
      "[13, 9]\n",
      "399\n"
     ]
    }
   ],
   "source": [
    "#Read Input\n",
    "N, M, S = map(int, input(\"Enter N- number of candidates, M- Team size and S- size of skill set: \").split())\n",
    "optimal_skills = list(input(\"Enter set of skills required by the trainers: \").split())\n",
    "skills = dict()\n",
    "#Run over all candidates\n",
    "for i in range(N):\n",
    "    candidate = int(input(\"Enter candidate ID: \"))\n",
    "    #Run over all the skills for each candidate\n",
    "    for j in range(S):\n",
    "        skill, score = input(\"Enter skill code and skill score: \").split()\n",
    "        #Define a dictionary with skill as key and value as dictionary containing candidate and his score for this skill\n",
    "        if skill not in skills.keys():\n",
    "            skills[skill] = {candidate: int(score)}\n",
    "        else:\n",
    "            skills[skill].update({candidate: int(score)})\n",
    "print(calculate_max_score(count_elements(optimal_skills), skills))"
   ]
  },
  {
   "cell_type": "markdown",
   "id": "3acdf6f5",
   "metadata": {},
   "source": [
    "#### Question 2: What is the time complexity (the Big O notation) of your solution? Please provide a detailed explanation of how you calculated the time complexity."
   ]
  },
  {
   "cell_type": "markdown",
   "id": "e0c56460",
   "metadata": {},
   "source": [
    "We will explain the time complexity for each part separetly:  \n",
    "    - Reading the input- This part takes O(N * S) since we are going over all candidate- N and for each one we go over all skills- S.  \n",
    "    As stated in the assignment the input has a total of 2+ N(S+1) lines\n",
    "    which implies reading the input is O(N * S).  \n",
    "    Creating the dictionary is also O(N * S) because: Checking if a key exists in a dictionary is O(1) and Updating a dictionary with the `update()` methode is also O(1).  \n",
    "    2.`count_elements`- Note that the number of elements in the optimal set of skills required by the trainers is M\n",
    "    and therefore, since the function run over all elements in the list, the function has running time of O(M) < O(N).  \n",
    "    3. `find_best_candidates` - The len() function checks the number of items in a dictionary takes O(1).   The `sorted()` function which sorts the dictionary items has time complexity of O(n log n),   where n is the number of items in the dictionary and Since n <= M < N - we get O(N log N).  The keys() method returns a view object that displays a list of all keys in the dictionary this operation takes O(1). The [:num] operation slices the first `num` elements from the sorted list. This operation is O(k), where k is the number of elements being sliced.  Since K < M < N this operation takes O(1). So overall we get O(N log N).  \n",
    "    4. `calculate_skill_score`- The generator expression iterates over the list of candidates. This operation is O(n), where n is the number of candidates which we know is < M < N. the `sum` methode takes O(1) and therefore we get total running time of O(N).  \n",
    "    5. `check_benefit`- The dictionary comprehensions {k: v for k, v in skill1.items() if k != candidate} and {k: v for k, v in skill2.items() if k != candidate} each have a time complexity of O(n), where n is the number of items in the dictionary which is smaller than N. The function call `find_best_candidates` 4 times which takes O(4 * N log N) = O(N log N). The function also call `calculate_skill_score` 4 times which takes O(4 * N) = O(N). The comparison `score1 - score_copy1 > score2 - score_copy2` and the return statements have a constant time complexity, O(1).\n",
    "    Overall we get O(N log N).  \n",
    "    6. `calculate_score`- The for loop iterates over the items in the `selected_members` dictionary. This operation is O(n), where n is the number of items in the dictionary, since n < M < N we get O(N). The expression `candidates_skills[value][key]` accesses a value in a dictionary. Accessing a value in a dictionary by its key is an O(1) operation. So overall we get O(N).  \n",
    "    7. `calculate_max_score` - The outer for loop iterates over the items in the required_skills dictionary. This operation is O(n), where n is the number of items in the dictionary. Since n = M < N this is O(N).  For each item in required_skills we call `find_best_candidates` which result in O(N^2 log N). The function call `check_benefit` for candidates who were selected and being selected now again. In the worst case this function will be called M(S-1) times which implies running time O(N(S-1)) * O(N log N). All other operations inside the for loop takes O(1) each. At the end we call the `calculate_score` function which has running time of O(N). So we get: O(N^2 log N) + O(N(S-1)) * O(N log N) + O(N) = O(S * N^2 log N).\n",
    "    \n",
    "Overall the running time of our algorithm is: O(N * S) + O(N) + O(S * N^2 log N) = O(N^2 log N).\n",
    "\n",
    "Althout we don't have any upper bound for S it is reasonable to assume that the number of skills of each candidate is less than the number of candidates. In case it's not true we will get running time: O(S * N^2 log N)"
   ]
  },
  {
   "cell_type": "markdown",
   "id": "9f5d96c6",
   "metadata": {},
   "source": [
    "#### Question 3: Ask ChatGPT or any other LLM chatbot tool to check your code's time complexity (the Big O notation). Compare your answer to theirs. If the two differ, which one is right? (why?)\n",
    "\n",
    "By chatGPT the running time of our algorithm is O(N^2 log N) where it also asuume S < N and therefore ignore S.\n",
    "Both answers are same."
   ]
  },
  {
   "cell_type": "markdown",
   "id": "01daa363",
   "metadata": {},
   "source": [
    "#### Question 4: If you algorithm has exponential time complexity, can you provide a polynomial-time version?\n",
    "\n",
    "Our algorithm has polynomial-time complexity."
   ]
  },
  {
   "cell_type": "markdown",
   "id": "80db5a3c",
   "metadata": {},
   "source": [
    "#### Question 5: If S = 1, how does the time complexity of an optimal algorithm to solve this problem change?\n",
    "\n",
    "If S = 1 then in `calculate_max_score` we can delete all the part inside the first `if` and especially we dont call `check_benefit`. Also if each candidate has only one skill, `find_best_candidates` will run in the worst case (N log N)- in the case all candidates have the same sole skill, Which reduces the overall running time of the function to O(N log N).  \n",
    "Therefore If S = 1 the overall running time of our algorithm is: O(N) + O(N) + O(N log N) = O(N log N),   \n",
    "and the algorithm move from polynomial time to O(N log N) which is faster."
   ]
  },
  {
   "cell_type": "markdown",
   "id": "d2fae3fc",
   "metadata": {},
   "source": [
    "### Part B"
   ]
  },
  {
   "cell_type": "markdown",
   "id": "ca1115e1",
   "metadata": {},
   "source": [
    "#### Question 1: Prove or disprove that the problem is NP-complete.\n",
    "\n",
    "We will try to prove the problem is NP-complete and see if we get a contradiction.\n",
    "In order to show our problem is NP-complete we need to prove that the problem is in the class NP and that it is NP-hard, meaning any NP-complete problem can be reduced to it in polynomial time.\n",
    "\n",
    "1. The problem belongs to NP class: Given a solution, a set of individuals forming a team, we can easily verify it by checking whether every required skill in T is exhibited by at least one individual in the team. This is by running over the tree V' create and see if all skills-node are there.\n",
    "\n",
    "Therefore, our problem has polynomial time verifiability and hence belongs to the NP Class."
   ]
  },
  {
   "cell_type": "code",
   "execution_count": null,
   "id": "1469181a",
   "metadata": {},
   "outputs": [],
   "source": []
  }
 ],
 "metadata": {
  "kernelspec": {
   "display_name": "Python 3 (ipykernel)",
   "language": "python",
   "name": "python3"
  },
  "language_info": {
   "codemirror_mode": {
    "name": "ipython",
    "version": 3
   },
   "file_extension": ".py",
   "mimetype": "text/x-python",
   "name": "python",
   "nbconvert_exporter": "python",
   "pygments_lexer": "ipython3",
   "version": "3.9.7"
  }
 },
 "nbformat": 4,
 "nbformat_minor": 5
}
